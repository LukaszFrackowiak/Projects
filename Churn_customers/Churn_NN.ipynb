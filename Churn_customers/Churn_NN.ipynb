{
 "cells": [
  {
   "cell_type": "code",
   "execution_count": 1,
   "id": "bbf4e3e4-7993-4df1-8593-cbdb3faea5d5",
   "metadata": {},
   "outputs": [],
   "source": [
    "#https://www.tensorflow.org/tutorials/estimator/keras_model_to_estimator\n",
    "#https://www.tensorflow.org/tutorials/estimator/premade"
   ]
  },
  {
   "cell_type": "code",
   "execution_count": 2,
   "id": "751cd91b-2163-4701-b0a2-4da2a9447430",
   "metadata": {},
   "outputs": [],
   "source": [
    "import tensorflow as tf"
   ]
  },
  {
   "cell_type": "code",
   "execution_count": 3,
   "id": "00719a4b-b372-4375-8b5d-d15697de2333",
   "metadata": {},
   "outputs": [],
   "source": [
    "def get_basic_model():\n",
    "    model = tf.keras.Sequential([\n",
    "    tf.keras.layers.Normalization(),\n",
    "    tf.keras.layers.Dense(23, input_shape = (23,), activation='relu'),\n",
    "    tf.keras.layers.Dense(23, input_shape = (23,), activation='relu'),\n",
    "    tf.keras.layers.Dense(1, activation='sigmoid')    \n",
    "    ])\n",
    "\n",
    "    model.compile(optimizer='adam',\n",
    "                loss=\"binary_crossentropy\",\n",
    "                metrics=[\"categorical_accuracy\"])\n",
    "    return model"
   ]
  },
  {
   "cell_type": "code",
   "execution_count": null,
   "id": "382da2ef-f31e-44d7-9f0a-36140b5f6413",
   "metadata": {},
   "outputs": [],
   "source": [
    "model = get_basic_model()\n",
    "model.fit(x_train, y_train, epochs=5, batch_size=10)"
   ]
  },
  {
   "cell_type": "code",
   "execution_count": null,
   "id": "c86ddc49-643c-44b6-a332-347e08ef0b4e",
   "metadata": {},
   "outputs": [],
   "source": [
    "y_pred_NN = model.predict(x_test)\n",
    "y_pred_NN"
   ]
  },
  {
   "cell_type": "code",
   "execution_count": null,
   "id": "2811b771-73ab-4784-beae-a0932f18d11f",
   "metadata": {},
   "outputs": [],
   "source": [
    "probability_model = tf.keras.Sequential([model, \n",
    "                                         tf.keras.layers.Softmax()])\n",
    "\n",
    "y_pred_NN = probability_model.predict(x_test)"
   ]
  },
  {
   "cell_type": "code",
   "execution_count": null,
   "id": "9459bb45-ef82-462b-857f-828d676bb299",
   "metadata": {},
   "outputs": [],
   "source": [
    "print(classification_report(y_test, np.round(y_pred_NN)))\n",
    "\n",
    "cm_pipe_NN = confusion_matrix(y_test, np.round(y_pred_NN))\n",
    "disp_pipe_NN = ConfusionMatrixDisplay(confusion_matrix=cm_pipe_NN)\n",
    "disp_pipe_NN.plot()\n",
    "plt.show()"
   ]
  }
 ],
 "metadata": {
  "kernelspec": {
   "display_name": "Python 3 (ipykernel)",
   "language": "python",
   "name": "python3"
  },
  "language_info": {
   "codemirror_mode": {
    "name": "ipython",
    "version": 3
   },
   "file_extension": ".py",
   "mimetype": "text/x-python",
   "name": "python",
   "nbconvert_exporter": "python",
   "pygments_lexer": "ipython3",
   "version": "3.9.7"
  }
 },
 "nbformat": 4,
 "nbformat_minor": 5
}
