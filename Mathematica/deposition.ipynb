{
 "cells": [
  {
   "cell_type": "code",
   "execution_count": 1,
   "id": "ae565338-3c6a-4e62-bfa2-120f98095197",
   "metadata": {},
   "outputs": [],
   "source": [
    "import matplotlib.pyplot as plt\n",
    "import numpy as np\n",
    "import pandas as pd"
   ]
  },
  {
   "cell_type": "code",
   "execution_count": 84,
   "id": "c11f7341-e438-47b7-9a7a-f7b7d64ed03f",
   "metadata": {},
   "outputs": [],
   "source": [
    "XStartingTargetPosition = -25\n",
    "XEndingTargetPosition = 25\n",
    "YStartingTargetPosition = -25\n",
    "YEndingTargetPosition = 25\n",
    "TargetOuterRadius = 25\n",
    "TargetInnerRadius = 0\n",
    "\n",
    "TargetCellNumber = 50\n",
    "XTargetCellSize = (XEndingTargetPosition - XStartingTargetPosition)/TargetCellNumber\n",
    "YTargetCellSize = (XEndingTargetPosition - XStartingTargetPosition)/TargetCellNumber\n",
    "YTargetCenterPosition = 0\n",
    "XTargetCenterPosition = 0\n",
    "\n",
    "\n",
    "AK_Height = 147\n",
    "ChimneyHeight = 30\n",
    "ChimneyRadius = 25\n",
    "StartingPlanePosition = -250\n",
    "EndingPlanePosition = 250\n",
    "\n",
    "\n",
    "def ChimneyIntersect(x1,y1,x2,y2,h,R):\n",
    "    value = (-h*((-2)*x1*x2 + 2*x2**2 - 2*y1*y2 + 2*y2**2 + np.sqrt((2*x1*x2 - 2*x2**2 + 2*y1*y2 - 2*y2**2)**2 - 4*(-R**2 + x2**2 + y2**2)*(x1**2 - 2*x1*x2 + x2**2 + y1**2 - 2*y1*y2 + y2**2)))/(2*(x1**2 - 2*x1*x2 + x2**2 + y1**2 - 2*y1*y2 + y2**2)))\n",
    "    return value"
   ]
  },
  {
   "cell_type": "code",
   "execution_count": 118,
   "id": "3743a5b6-d5d8-4825-be24-4090d1a21b3d",
   "metadata": {},
   "outputs": [
    {
     "name": "stdout",
     "output_type": "stream",
     "text": [
      "Wall time: 9.72 s\n"
     ]
    }
   ],
   "source": [
    "%%time\n",
    "XCount = 0\n",
    "g = np.zeros(501)\n",
    "XPlane = StartingPlanePosition\n",
    "while XPlane <= EndingPlanePosition: \n",
    "    XTarget = XStartingTargetPosition\n",
    "    while XTarget <= XEndingTargetPosition:\n",
    "        YTarget = YStartingTargetPosition\n",
    "        while YTarget <= YEndingTargetPosition:\n",
    "            \n",
    "            TargetShape = np.sqrt(XTarget**2+YTarget**2)\n",
    "            PlaneTargetCellsDistance = np.sqrt((XTarget-XPlane)**2+YTarget**2)\n",
    "            \n",
    "            if TargetInnerRadius <= TargetShape <= TargetOuterRadius:\n",
    "                \n",
    "                if ChimneyHeight != 0:\n",
    "                    \n",
    "                    if PlaneTargetCellsDistance > TargetOuterRadius:\n",
    "                            \n",
    "                            if ChimneyIntersect(XPlane,0,XTarget,YTarget,AK_Height,ChimneyRadius) < -ChimneyHeight:\n",
    "                                g[XCount] += (AK_Height**2)/((AK_Height**2 + PlaneTargetCellsDistance**2)**2)\n",
    "                            else: pass\n",
    "                             \n",
    "                    else: g[XCount] += (AK_Height**2)/((AK_Height**2 + PlaneTargetCellsDistance**2)**2) \n",
    "            \n",
    "                else: g[XCount] += (AK_Height**2)/((AK_Height**2 + PlaneTargetCellsDistance**2)**2)  \n",
    "            \n",
    "            else: pass    \n",
    "                      \n",
    "            \n",
    "            YTarget += YTargetCellSize\n",
    "        XTarget += XTargetCellSize\n",
    "    XPlane += 1\n",
    "    XCount += 1        "
   ]
  },
  {
   "cell_type": "code",
   "execution_count": 110,
   "id": "afca6e98-944d-4d8a-9f6a-4eec3e4e803a",
   "metadata": {},
   "outputs": [
    {
     "name": "stdout",
     "output_type": "stream",
     "text": [
      "Couldn't find program: 'false'\n"
     ]
    }
   ],
   "source": [
    "%%script false --no-raise-error\n",
    "%%time\n",
    "XCount=0\n",
    "YCount=0\n",
    "G = np.zeros([501,501])\n",
    "YPlane = StartingPlanePosition\n",
    "while YPlane <= EndingPlanePosition:\n",
    "    XPlane = StartingPlanePosition\n",
    "    while XPlane <= EndingPlanePosition: \n",
    "        XTarget = XStartingTargetPosition\n",
    "        while XTarget <= XEndingTargetPosition:\n",
    "            YTarget = YStartingTargetPosition\n",
    "            while YTarget <= YEndingTargetPosition:\n",
    "\n",
    "                TargetShape = np.sqrt(XTarget**2+YTarget**2)\n",
    "                PlaneTargetCellsDistance = np.sqrt((XTarget-XPlane)**2+(YTarget-YPlane)**2)\n",
    "\n",
    "                if TargetInnerRadius <= TargetShape <= TargetOuterRadius:\n",
    "\n",
    "                    if ChimneyHeight != 0:\n",
    "\n",
    "                        if PlaneTargetCellsDistance > TargetOuterRadius:\n",
    "\n",
    "                                if ChimneyIntersect(XPlane,YPlane,XTarget,YTarget,AK_Height,ChimneyRadius) < -ChimneyHeight:\n",
    "                                    G[XCount,YCount] += (AK_Height**2)/((AK_Height**2 + PlaneTargetCellsDistance**2)**2)\n",
    "                                else: pass\n",
    "\n",
    "                        else: G[XCount,YCount] += (AK_Height**2)/((AK_Height**2 + PlaneTargetCellsDistance**2)**2) \n",
    "\n",
    "                    else: G[XCount,YCount] += (AK_Height**2)/((AK_Height**2 + PlaneTargetCellsDistance**2)**2)  \n",
    "\n",
    "                else: pass    \n",
    "\n",
    "\n",
    "                YTarget += YTargetCellSize\n",
    "            XTarget += XTargetCellSize\n",
    "        XPlane += 1\n",
    "        XCount += 1\n",
    "    YPlane += 1\n",
    "    YCount += 1\n",
    "    XCount = 0"
   ]
  },
  {
   "cell_type": "code",
   "execution_count": 136,
   "id": "9f34dd25-c100-49ab-8207-c438a73c6e35",
   "metadata": {},
   "outputs": [
    {
     "data": {
      "text/plain": [
       "[<matplotlib.lines.Line2D at 0x1a6a49b72e0>]"
      ]
     },
     "execution_count": 136,
     "metadata": {},
     "output_type": "execute_result"
    },
    {
     "data": {
      "image/png": "[encoded data removed]",
      "text/plain": [
       "<Figure size 720x720 with 1 Axes>"
      ]
     },
     "metadata": {
      "needs_background": "light"
     },
     "output_type": "display_data"
    }
   ],
   "source": [
    "#G.columns = np.arange(-250,251,1)\n",
    "g = pd.DataFrame(g)\n",
    "g.index = np.arange(-250,251,1)\n",
    "G = np.poly1d(np.polyfit(g.index[150:-150],g[0][150:-150],30))\n",
    "plt.scatter(g.index,g[0])\n",
    "plt.plot(g.index[150:-150],G(g.index[150:-150]), \"r\")"
   ]
  },
  {
   "cell_type": "code",
   "execution_count": 70,
   "id": "536a7aad-414b-42a0-9042-cc18613972b1",
   "metadata": {},
   "outputs": [
    {
     "name": "stdout",
     "output_type": "stream",
     "text": [
      "Couldn't find program: 'false'\n"
     ]
    }
   ],
   "source": [
    "%%script false --no-raise-error\n",
    "plt.imshow(G, cmap='nipy_spectral',interpolation='gaussian', extent=[-250,250,-250,250])\n",
    "plt.colorbar(fraction=0.046, pad=0.04)\n",
    "plt.xlabel(\"\",fontsize=50)\n",
    "plt.gca().invert_yaxis()  #odwraca oś Y\n",
    "plt.rcParams['figure.figsize'] = [10, 10]\n",
    "plt.show()"
   ]
  },
  {
   "cell_type": "code",
   "execution_count": 138,
   "id": "a4cbadc6-4629-42ed-8948-faaddc87f86c",
   "metadata": {},
   "outputs": [
    {
     "data": {
      "text/plain": [
       "0.04673933245096605"
      ]
     },
     "execution_count": 138,
     "metadata": {},
     "output_type": "execute_result"
    }
   ],
   "source": [
    "G(65)"
   ]
  },
  {
   "cell_type": "code",
   "execution_count": null,
   "id": "7165028f-05c2-470b-b2ec-8613e521e050",
   "metadata": {},
   "outputs": [],
   "source": []
  }
 ],
 "metadata": {
  "kernelspec": {
   "display_name": "Python 3 (ipykernel)",
   "language": "python",
   "name": "python3"
  },
  "language_info": {
   "codemirror_mode": {
    "name": "ipython",
    "version": 3
   },
   "file_extension": ".py",
   "mimetype": "text/x-python",
   "name": "python",
   "nbconvert_exporter": "python",
   "pygments_lexer": "ipython3",
   "version": "3.8.8"
  }
 },
 "nbformat": 4,
 "nbformat_minor": 5
}
